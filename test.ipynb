{
 "cells": [
  {
   "cell_type": "code",
   "execution_count": 11,
   "id": "462a539c",
   "metadata": {},
   "outputs": [],
   "source": [
    "import pathlib\n",
    "import os"
   ]
  },
  {
   "cell_type": "code",
   "execution_count": null,
   "id": "77ff493d",
   "metadata": {},
   "outputs": [
    {
     "data": {
      "text/plain": [
       "PosixPath('/Users/rahulsinghindata/AI-ML/ML_PROJECT_END_TO_END_17_07_2025')"
      ]
     },
     "execution_count": 10,
     "metadata": {},
     "output_type": "execute_result"
    }
   ],
   "source": [
    "filepath = pathlib.Path(\"/Users/rahulsinghindata/AI-ML/ML_PROJECT_END_TO_END_17_07_2025/test.ipynb\")"
   ]
  },
  {
   "cell_type": "code",
   "execution_count": 12,
   "id": "a20fb987",
   "metadata": {},
   "outputs": [
    {
     "name": "stdout",
     "output_type": "stream",
     "text": [
      "File Directory: /Users/rahulsinghindata/AI-ML/ML_PROJECT_END_TO_END_17_07_2025\n",
      "File Name: test.ipynb\n"
     ]
    }
   ],
   "source": [
    "filedir, filename = os.path.split(filepath)\n",
    "print(f\"File Directory: {filedir}\")\n",
    "print(f\"File Name: {filename}\")"
   ]
  },
  {
   "cell_type": "code",
   "execution_count": null,
   "id": "d27ce525",
   "metadata": {},
   "outputs": [],
   "source": []
  }
 ],
 "metadata": {
  "kernelspec": {
   "display_name": ".venv",
   "language": "python",
   "name": "python3"
  },
  "language_info": {
   "codemirror_mode": {
    "name": "ipython",
    "version": 3
   },
   "file_extension": ".py",
   "mimetype": "text/x-python",
   "name": "python",
   "nbconvert_exporter": "python",
   "pygments_lexer": "ipython3",
   "version": "3.13.3"
  }
 },
 "nbformat": 4,
 "nbformat_minor": 5
}
